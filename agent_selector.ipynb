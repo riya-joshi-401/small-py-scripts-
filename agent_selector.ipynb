{
  "nbformat": 4,
  "nbformat_minor": 0,
  "metadata": {
    "colab": {
      "name": "agent selector.ipynb",
      "provenance": [],
      "collapsed_sections": []
    },
    "kernelspec": {
      "name": "python3",
      "display_name": "Python 3"
    }
  },
  "cells": [
    {
      "cell_type": "code",
      "metadata": {
        "id": "Td18bU9K8mo_",
        "colab_type": "code",
        "colab": {
          "base_uri": "https://localhost:8080/",
          "height": 686
        },
        "outputId": "e194dde1-1f88-485c-8a8d-c91885264d23"
      },
      "source": [
        "\n",
        "\n",
        "agent_info = {}   # empty dictionary initialised to store data for agents\n",
        "\n",
        "while True:\n",
        "  agent_id = input(\" Enter agent id : \")          # agent id used for uniquely identifying agents , we can also use name instead \n",
        "  is_available = int(input(\" Enter availability status : \"))         # 1: available , 0: unavailable\n",
        "  available_since = int(input(\" Enter the time since agent's available (in hours): \"))   # unit of time here is in hours \n",
        "\n",
        "  agent_info[agent_id]=[]\n",
        "  agent_info[agent_id].append(is_available)  \n",
        "  agent_info[agent_id].append(available_since)\n",
        "\n",
        "  while True:\n",
        "    role=   input(\" Enter agent's role or type 'no' to quit  \")  # enter agent's roles\n",
        "    if role=='no':\n",
        "      break\n",
        "    else:\n",
        "      agent_info[agent_id].append(role)\n",
        "\n",
        "\n",
        "  ch=input(\" Press y to continue , no to exit \")\n",
        "  if ch=='no':\n",
        "    break"
      ],
      "execution_count": 2,
      "outputs": [
        {
          "output_type": "stream",
          "text": [
            " Enter agent id : A101\n",
            " Enter availability status : 1\n",
            " Enter the time since agent's available (in hours): 4\n",
            " Enter agent's role or type 'no' to quit  german speaker\n",
            " Enter agent's role or type 'no' to quit  sales\n",
            " Enter agent's role or type 'no' to quit   investment banker\n",
            " Enter agent's role or type 'no' to quit  no\n",
            " Press y to continue , no to exit y\n",
            " Enter agent id : A102\n",
            " Enter availability status : 1\n",
            " Enter the time since agent's available (in hours): 5\n",
            " Enter agent's role or type 'no' to quit  marketing\n",
            " Enter agent's role or type 'no' to quit  auctioneer\n",
            " Enter agent's role or type 'no' to quit  support\n",
            " Enter agent's role or type 'no' to quit  spanish speaking\n",
            " Enter agent's role or type 'no' to quit  no\n",
            " Press y to continue , no to exit y\n",
            " Enter agent id : A103\n",
            " Enter availability status : 0\n",
            " Enter the time since agent's available (in hours): 0\n",
            " Enter agent's role or type 'no' to quit  support\n",
            " Enter agent's role or type 'no' to quit  talent manager\n",
            " Enter agent's role or type 'no' to quit  no\n",
            " Press y to continue , no to exit y\n",
            " Enter agent id : A104\n",
            " Enter availability status : 1\n",
            " Enter the time since agent's available (in hours): 1\n",
            " Enter agent's role or type 'no' to quit  technical support\n",
            " Enter agent's role or type 'no' to quit  security \n",
            " Enter agent's role or type 'no' to quit  sales\n",
            " Enter agent's role or type 'no' to quit  no\n",
            " Press y to continue , no to exit y\n",
            " Enter agent id : A105\n",
            " Enter availability status : 1\n",
            " Enter the time since agent's available (in hours): 2\n",
            " Enter agent's role or type 'no' to quit  engineer\n",
            " Enter agent's role or type 'no' to quit  business analyst \n",
            " Enter agent's role or type 'no' to quit  technical support\n",
            " Enter agent's role or type 'no' to quit  no\n",
            " Press y to continue , no to exit no\n"
          ],
          "name": "stdout"
        }
      ]
    },
    {
      "cell_type": "code",
      "metadata": {
        "id": "Zfbg_G2BAOnj",
        "colab_type": "code",
        "colab": {
          "base_uri": "https://localhost:8080/",
          "height": 53
        },
        "outputId": "f9e05551-0be2-4174-c873-3e5fd07c7fca"
      },
      "source": [
        "print(agent_info)"
      ],
      "execution_count": 3,
      "outputs": [
        {
          "output_type": "stream",
          "text": [
            "{'A101': [1, 4, 'german speaker', 'sales', ' investment banker'], 'A102': [1, 5, 'marketing', 'auctioneer', 'support', 'spanish speaking'], 'A103': [0, 0, 'support', 'talent manager'], 'A104': [1, 1, 'technical support', 'security ', 'sales'], 'A105': [1, 2, 'engineer', 'business analyst ', 'technical support']}\n"
          ],
          "name": "stdout"
        }
      ]
    },
    {
      "cell_type": "code",
      "metadata": {
        "id": "XptraVsmAWZ_",
        "colab_type": "code",
        "colab": {
          "base_uri": "https://localhost:8080/",
          "height": 67
        },
        "outputId": "8b45fcc2-0397-4d81-e92a-51f8e649f5f3"
      },
      "source": [
        "issues=[]  # for storing the issues of the users\n",
        "\n",
        "\n",
        "while True:\n",
        "  issue=input(\" Enter the issue or type 'no' to exit \")\n",
        "  if issue=='no':\n",
        "    break\n",
        "  else:\n",
        "    issues.append(issue)\n"
      ],
      "execution_count": 35,
      "outputs": [
        {
          "output_type": "stream",
          "text": [
            " Enter the issue or type 'no' to exit spanish speaking\n",
            " Enter the issue or type 'no' to exit technical support\n",
            " Enter the issue or type 'no' to exit no\n"
          ],
          "name": "stdout"
        }
      ]
    },
    {
      "cell_type": "code",
      "metadata": {
        "id": "LDgwYNaKAmcO",
        "colab_type": "code",
        "colab": {
          "base_uri": "https://localhost:8080/",
          "height": 33
        },
        "outputId": "6c6d892a-7415-4ec7-f975-41011865e33d"
      },
      "source": [
        "print(issues)"
      ],
      "execution_count": 36,
      "outputs": [
        {
          "output_type": "stream",
          "text": [
            "['spanish speaking', 'technical support']\n"
          ],
          "name": "stdout"
        }
      ]
    },
    {
      "cell_type": "code",
      "metadata": {
        "id": "vuw5amC2AxJF",
        "colab_type": "code",
        "colab": {}
      },
      "source": [
        "import random\n",
        "\n",
        "# function select_agent takes in two parameters agent_info and issues . And returns a list of agents to whom the issues must be presented.\n",
        "\n",
        "def select_agent(agent_info,issues):  \n",
        "  \n",
        "  \n",
        "  allocation_list1=allocation_list2=allocation_list3=[]\n",
        "  \n",
        "# selection modes are :  all available, least busy ,  random\n",
        "  \n",
        "  choice=int(input(\" Enter selection mode : 1: all available  , 2: least busy , 3: random  : \"))\n",
        "\n",
        "  if choice==1:   # choice 1\n",
        "\n",
        "    for key in agent_info:\n",
        "      for x in agent_info[key][2:]:\n",
        "        if agent_info[key][0]==1 and x in issues:\n",
        "          allocation_list1.append(key)\n",
        "\n",
        "    return allocation_list1\n",
        "\n",
        "\n",
        "  elif choice==2:    # choice 2\n",
        "\n",
        "    max_time=0\n",
        "    temp1={}  # for storing agents having matching roles\n",
        "    \n",
        "\n",
        "    for key in agent_info:\n",
        "      for x in agent_info[key][2:]:\n",
        "        if x in issues:\n",
        "          temp1[key]=agent_info[key]\n",
        "          \n",
        "          \n",
        "# now we find max time among the agents stored in temp1 which are having matching roles\n",
        "    for key in temp1:\n",
        "      if temp1[key][1] > max_time:  \n",
        "        max_time=temp1[key][1]\n",
        "\n",
        "# then we find the agent who was available for the maximum time\n",
        "    for key in temp1:\n",
        "      for x in temp1[key][2:]:\n",
        "        if temp1[key][1]==max_time:\n",
        "          allocation_list2.append(key)\n",
        "          break\n",
        "\n",
        "    return allocation_list2\n",
        "  \n",
        "    \n",
        "  else:  # choice 3\n",
        "\n",
        "    temp2=[] # for storing agents having matching roles \n",
        "\n",
        "    for key in agent_info:\n",
        "      for x in agent_info[key][2:]:\n",
        "        if x in issues:\n",
        "          temp2.append(key)\n",
        "    \n",
        "    key_random=random.choice(temp2) # randomly selecting an agent from the agents only having matching roles\n",
        "\n",
        "    allocation_list3.append(key_random)\n",
        "  \n",
        "    return allocation_list3\n",
        "\n"
      ],
      "execution_count": 37,
      "outputs": []
    },
    {
      "cell_type": "code",
      "metadata": {
        "id": "Vkw5z621E4bf",
        "colab_type": "code",
        "colab": {
          "base_uri": "https://localhost:8080/",
          "height": 50
        },
        "outputId": "fb13ea5e-8707-4ffc-e612-b197013aa69c"
      },
      "source": [
        "print(select_agent(agent_info,issues))   # testing if input selection mode is 1 "
      ],
      "execution_count": 44,
      "outputs": [
        {
          "output_type": "stream",
          "text": [
            " Enter selection mode : 1: all available  , 2: least busy , 3: random  : 1\n",
            "['A102', 'A104', 'A105']\n"
          ],
          "name": "stdout"
        }
      ]
    },
    {
      "cell_type": "code",
      "metadata": {
        "id": "fhToC7VwqYsp",
        "colab_type": "code",
        "colab": {
          "base_uri": "https://localhost:8080/",
          "height": 50
        },
        "outputId": "2ca3a5e9-4bb4-4604-a8c2-d95bf7c9c2e1"
      },
      "source": [
        "print(select_agent(agent_info,issues))   # testing if input selection mode is 2 "
      ],
      "execution_count": 45,
      "outputs": [
        {
          "output_type": "stream",
          "text": [
            " Enter selection mode : 1: all available  , 2: least busy , 3: random  : 2\n",
            "['A102']\n"
          ],
          "name": "stdout"
        }
      ]
    },
    {
      "cell_type": "code",
      "metadata": {
        "id": "kAp0I16PqZbi",
        "colab_type": "code",
        "colab": {
          "base_uri": "https://localhost:8080/",
          "height": 50
        },
        "outputId": "d94989ab-60cd-4b69-eaa1-460f4322dcb6"
      },
      "source": [
        "print(select_agent(agent_info,issues))   # testing if input selection mode is 3"
      ],
      "execution_count": 47,
      "outputs": [
        {
          "output_type": "stream",
          "text": [
            " Enter selection mode : 1: all available  , 2: least busy , 3: random  : 3\n",
            "['A104']\n"
          ],
          "name": "stdout"
        }
      ]
    }
  ]
}